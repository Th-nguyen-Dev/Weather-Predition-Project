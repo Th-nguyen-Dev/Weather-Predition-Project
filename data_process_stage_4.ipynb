{
 "cells": [
  {
   "cell_type": "code",
   "execution_count": 3,
   "metadata": {},
   "outputs": [
    {
     "name": "stdout",
     "output_type": "stream",
     "text": [
      "         STATION  LONGITUDE  LATITUDE ELEVATION\n",
      "0  72793724222.0 -122.28308  47.92322     167.1\n",
      "0  72784624160.0 -118.28572  46.09456     356.7\n",
      "0  74207124201.0 -122.58333  47.08333      91.4\n",
      "0  72797624217.0 -122.54069   48.7991      45.9\n",
      "0  72792394225.0 -123.93074  46.97288       4.5\n",
      "0  72794504205.0 -122.15889  48.16056      41.8\n",
      "0  72798594276.0  -123.0264  48.51998      34.2\n",
      "0  72788324220.0 -120.53135  47.03376     532.5\n",
      "0  72793024233.0 -122.31442  47.44467     112.5\n",
      "0  72074924255.0 -122.66667     48.35      14.3\n",
      "0  72781024243.0 -120.53488  46.56398     321.0\n",
      "0  72792894263.0 -122.76667  47.48333     135.3\n",
      "0  72785024157.0 -117.52796  47.62168     717.7\n",
      "0  72784524163.0 -119.11816   46.2695     122.1\n",
      "0  72027294282.0 -122.41667  48.46667      42.7\n",
      "0  72797094240.0 -124.55757  47.93695      56.4\n",
      "0  72792024227.0 -122.90493  46.97371      60.9\n",
      "0  72793894274.0 -122.57623  47.26744      88.4\n",
      "0  72785524114.0    -117.65  47.63333     750.1\n",
      "0  72785794129.0 -117.11581  46.74376     775.7\n",
      "0  72781524237.0  -121.3372   47.2767    1206.7\n",
      "0  72698824219.0 -121.16571  45.61901      71.2\n",
      "0  72792594227.0 -123.14147  47.23842      84.2\n",
      "0  72782594239.0 -120.20124  47.39746     377.5\n",
      "0  74206024207.0 -122.48333     47.15      98.1\n",
      "0  72793494248.0 -122.21442  47.49513       5.5\n",
      "0  72782724110.0 -119.31459  47.19295     356.3\n",
      "0  72785694176.0 -117.32141  47.68575     594.6\n",
      "0  72792424223.0 -122.89389  46.11667       6.1\n",
      "0  72789094197.0 -119.52091  48.46113     397.4\n",
      "0  72025400119.0   -122.983    46.683      54.3\n",
      "0  72788594266.0 -123.50662  48.12194      83.2\n",
      "0  72220804224.0 -122.91056  48.70833       9.4\n",
      "0  72790024141.0 -119.51551  47.30777     382.1\n"
     ]
    },
    {
     "name": "stderr",
     "output_type": "stream",
     "text": [
      "/tmp/ipykernel_3235942/3060976375.py:24: FutureWarning: Setting an item of incompatible dtype is deprecated and will raise an error in a future version of pandas. Value '72793724222.0' has dtype incompatible with float64, please explicitly cast to a compatible dtype first.\n",
      "  entry['STATION'] = str(entry['STATION'])\n",
      "/tmp/ipykernel_3235942/3060976375.py:24: FutureWarning: Setting an item of incompatible dtype is deprecated and will raise an error in a future version of pandas. Value '72784624160.0' has dtype incompatible with float64, please explicitly cast to a compatible dtype first.\n",
      "  entry['STATION'] = str(entry['STATION'])\n",
      "/tmp/ipykernel_3235942/3060976375.py:24: FutureWarning: Setting an item of incompatible dtype is deprecated and will raise an error in a future version of pandas. Value '74207124201.0' has dtype incompatible with float64, please explicitly cast to a compatible dtype first.\n",
      "  entry['STATION'] = str(entry['STATION'])\n",
      "/tmp/ipykernel_3235942/3060976375.py:24: FutureWarning: Setting an item of incompatible dtype is deprecated and will raise an error in a future version of pandas. Value '72797624217.0' has dtype incompatible with float64, please explicitly cast to a compatible dtype first.\n",
      "  entry['STATION'] = str(entry['STATION'])\n",
      "/tmp/ipykernel_3235942/3060976375.py:24: FutureWarning: Setting an item of incompatible dtype is deprecated and will raise an error in a future version of pandas. Value '72792394225.0' has dtype incompatible with float64, please explicitly cast to a compatible dtype first.\n",
      "  entry['STATION'] = str(entry['STATION'])\n",
      "/tmp/ipykernel_3235942/3060976375.py:24: FutureWarning: Setting an item of incompatible dtype is deprecated and will raise an error in a future version of pandas. Value '72794504205.0' has dtype incompatible with float64, please explicitly cast to a compatible dtype first.\n",
      "  entry['STATION'] = str(entry['STATION'])\n",
      "/tmp/ipykernel_3235942/3060976375.py:24: FutureWarning: Setting an item of incompatible dtype is deprecated and will raise an error in a future version of pandas. Value '72798594276.0' has dtype incompatible with float64, please explicitly cast to a compatible dtype first.\n",
      "  entry['STATION'] = str(entry['STATION'])\n",
      "/tmp/ipykernel_3235942/3060976375.py:24: FutureWarning: Setting an item of incompatible dtype is deprecated and will raise an error in a future version of pandas. Value '72788324220.0' has dtype incompatible with float64, please explicitly cast to a compatible dtype first.\n",
      "  entry['STATION'] = str(entry['STATION'])\n",
      "/tmp/ipykernel_3235942/3060976375.py:24: FutureWarning: Setting an item of incompatible dtype is deprecated and will raise an error in a future version of pandas. Value '72793024233.0' has dtype incompatible with float64, please explicitly cast to a compatible dtype first.\n",
      "  entry['STATION'] = str(entry['STATION'])\n",
      "/tmp/ipykernel_3235942/3060976375.py:24: FutureWarning: Setting an item of incompatible dtype is deprecated and will raise an error in a future version of pandas. Value '72074924255.0' has dtype incompatible with float64, please explicitly cast to a compatible dtype first.\n",
      "  entry['STATION'] = str(entry['STATION'])\n",
      "/tmp/ipykernel_3235942/3060976375.py:24: FutureWarning: Setting an item of incompatible dtype is deprecated and will raise an error in a future version of pandas. Value '72781024243.0' has dtype incompatible with float64, please explicitly cast to a compatible dtype first.\n",
      "  entry['STATION'] = str(entry['STATION'])\n",
      "/tmp/ipykernel_3235942/3060976375.py:24: FutureWarning: Setting an item of incompatible dtype is deprecated and will raise an error in a future version of pandas. Value '72792894263.0' has dtype incompatible with float64, please explicitly cast to a compatible dtype first.\n",
      "  entry['STATION'] = str(entry['STATION'])\n",
      "/tmp/ipykernel_3235942/3060976375.py:24: FutureWarning: Setting an item of incompatible dtype is deprecated and will raise an error in a future version of pandas. Value '72785024157.0' has dtype incompatible with float64, please explicitly cast to a compatible dtype first.\n",
      "  entry['STATION'] = str(entry['STATION'])\n",
      "/tmp/ipykernel_3235942/3060976375.py:24: FutureWarning: Setting an item of incompatible dtype is deprecated and will raise an error in a future version of pandas. Value '72784524163.0' has dtype incompatible with float64, please explicitly cast to a compatible dtype first.\n",
      "  entry['STATION'] = str(entry['STATION'])\n",
      "/tmp/ipykernel_3235942/3060976375.py:24: FutureWarning: Setting an item of incompatible dtype is deprecated and will raise an error in a future version of pandas. Value '72027294282.0' has dtype incompatible with float64, please explicitly cast to a compatible dtype first.\n",
      "  entry['STATION'] = str(entry['STATION'])\n",
      "/tmp/ipykernel_3235942/3060976375.py:24: FutureWarning: Setting an item of incompatible dtype is deprecated and will raise an error in a future version of pandas. Value '72797094240.0' has dtype incompatible with float64, please explicitly cast to a compatible dtype first.\n",
      "  entry['STATION'] = str(entry['STATION'])\n",
      "/tmp/ipykernel_3235942/3060976375.py:24: FutureWarning: Setting an item of incompatible dtype is deprecated and will raise an error in a future version of pandas. Value '72792024227.0' has dtype incompatible with float64, please explicitly cast to a compatible dtype first.\n",
      "  entry['STATION'] = str(entry['STATION'])\n",
      "/tmp/ipykernel_3235942/3060976375.py:24: FutureWarning: Setting an item of incompatible dtype is deprecated and will raise an error in a future version of pandas. Value '72793894274.0' has dtype incompatible with float64, please explicitly cast to a compatible dtype first.\n",
      "  entry['STATION'] = str(entry['STATION'])\n",
      "/tmp/ipykernel_3235942/3060976375.py:24: FutureWarning: Setting an item of incompatible dtype is deprecated and will raise an error in a future version of pandas. Value '72785524114.0' has dtype incompatible with float64, please explicitly cast to a compatible dtype first.\n",
      "  entry['STATION'] = str(entry['STATION'])\n",
      "/tmp/ipykernel_3235942/3060976375.py:24: FutureWarning: Setting an item of incompatible dtype is deprecated and will raise an error in a future version of pandas. Value '72785794129.0' has dtype incompatible with float64, please explicitly cast to a compatible dtype first.\n",
      "  entry['STATION'] = str(entry['STATION'])\n",
      "/tmp/ipykernel_3235942/3060976375.py:24: FutureWarning: Setting an item of incompatible dtype is deprecated and will raise an error in a future version of pandas. Value '72781524237.0' has dtype incompatible with float64, please explicitly cast to a compatible dtype first.\n",
      "  entry['STATION'] = str(entry['STATION'])\n",
      "/tmp/ipykernel_3235942/3060976375.py:24: FutureWarning: Setting an item of incompatible dtype is deprecated and will raise an error in a future version of pandas. Value '72698824219.0' has dtype incompatible with float64, please explicitly cast to a compatible dtype first.\n",
      "  entry['STATION'] = str(entry['STATION'])\n",
      "/tmp/ipykernel_3235942/3060976375.py:24: FutureWarning: Setting an item of incompatible dtype is deprecated and will raise an error in a future version of pandas. Value '72792594227.0' has dtype incompatible with float64, please explicitly cast to a compatible dtype first.\n",
      "  entry['STATION'] = str(entry['STATION'])\n",
      "/tmp/ipykernel_3235942/3060976375.py:24: FutureWarning: Setting an item of incompatible dtype is deprecated and will raise an error in a future version of pandas. Value '72782594239.0' has dtype incompatible with float64, please explicitly cast to a compatible dtype first.\n",
      "  entry['STATION'] = str(entry['STATION'])\n",
      "/tmp/ipykernel_3235942/3060976375.py:24: FutureWarning: Setting an item of incompatible dtype is deprecated and will raise an error in a future version of pandas. Value '74206024207.0' has dtype incompatible with float64, please explicitly cast to a compatible dtype first.\n",
      "  entry['STATION'] = str(entry['STATION'])\n",
      "/tmp/ipykernel_3235942/3060976375.py:24: FutureWarning: Setting an item of incompatible dtype is deprecated and will raise an error in a future version of pandas. Value '72793494248.0' has dtype incompatible with float64, please explicitly cast to a compatible dtype first.\n",
      "  entry['STATION'] = str(entry['STATION'])\n",
      "/tmp/ipykernel_3235942/3060976375.py:24: FutureWarning: Setting an item of incompatible dtype is deprecated and will raise an error in a future version of pandas. Value '72782724110.0' has dtype incompatible with float64, please explicitly cast to a compatible dtype first.\n",
      "  entry['STATION'] = str(entry['STATION'])\n",
      "/tmp/ipykernel_3235942/3060976375.py:24: FutureWarning: Setting an item of incompatible dtype is deprecated and will raise an error in a future version of pandas. Value '72785694176.0' has dtype incompatible with float64, please explicitly cast to a compatible dtype first.\n",
      "  entry['STATION'] = str(entry['STATION'])\n",
      "/tmp/ipykernel_3235942/3060976375.py:24: FutureWarning: Setting an item of incompatible dtype is deprecated and will raise an error in a future version of pandas. Value '72792424223.0' has dtype incompatible with float64, please explicitly cast to a compatible dtype first.\n",
      "  entry['STATION'] = str(entry['STATION'])\n",
      "/tmp/ipykernel_3235942/3060976375.py:24: FutureWarning: Setting an item of incompatible dtype is deprecated and will raise an error in a future version of pandas. Value '72789094197.0' has dtype incompatible with float64, please explicitly cast to a compatible dtype first.\n",
      "  entry['STATION'] = str(entry['STATION'])\n",
      "/tmp/ipykernel_3235942/3060976375.py:24: FutureWarning: Setting an item of incompatible dtype is deprecated and will raise an error in a future version of pandas. Value '72025400119.0' has dtype incompatible with float64, please explicitly cast to a compatible dtype first.\n",
      "  entry['STATION'] = str(entry['STATION'])\n",
      "/tmp/ipykernel_3235942/3060976375.py:24: FutureWarning: Setting an item of incompatible dtype is deprecated and will raise an error in a future version of pandas. Value '72788594266.0' has dtype incompatible with float64, please explicitly cast to a compatible dtype first.\n",
      "  entry['STATION'] = str(entry['STATION'])\n",
      "/tmp/ipykernel_3235942/3060976375.py:24: FutureWarning: Setting an item of incompatible dtype is deprecated and will raise an error in a future version of pandas. Value '72220804224.0' has dtype incompatible with float64, please explicitly cast to a compatible dtype first.\n",
      "  entry['STATION'] = str(entry['STATION'])\n",
      "/tmp/ipykernel_3235942/3060976375.py:24: FutureWarning: Setting an item of incompatible dtype is deprecated and will raise an error in a future version of pandas. Value '72790024141.0' has dtype incompatible with float64, please explicitly cast to a compatible dtype first.\n",
      "  entry['STATION'] = str(entry['STATION'])\n"
     ]
    }
   ],
   "source": [
    "import pandas as pd\n",
    "import os\n",
    "\n",
    "# Directory containing the location-data files\n",
    "directory = 'location-data'\n",
    "\n",
    "# Initialize an empty DataFrame to store the results\n",
    "result_df = pd.DataFrame(columns=['STATION', 'LONGITUDE', 'LATITUDE', 'ELEVATION'])\n",
    "\n",
    "# Check if the directory exists\n",
    "if os.path.exists(directory):\n",
    "    # List to store DataFrames\n",
    "    dfs = []\n",
    "    \n",
    "    # Iterate over each file in the directory\n",
    "    for filename in os.listdir(directory):\n",
    "        if filename.endswith('.csv'):  # Assuming the files are in CSV format\n",
    "            file_path = os.path.join(directory, filename)\n",
    "            df = pd.read_csv(file_path)\n",
    "            \n",
    "            # Extract the required columns\n",
    "            if 'STATION' in df.columns and 'LONGITUDE' in df.columns and 'LATITUDE' in df.columns and 'ELEVATION' in df.columns:\n",
    "                entry = df[['STATION', 'LONGITUDE', 'LATITUDE', 'ELEVATION']].iloc[0]\n",
    "                entry['STATION'] = str(entry['STATION'])\n",
    "                dfs.append(entry)\n",
    "    \n",
    "    # Concatenate all DataFrames\n",
    "    if dfs:\n",
    "        result_df = pd.concat(dfs, axis=1).T\n",
    "\n",
    "# Display the result\n",
    "print(result_df)"
   ]
  },
  {
   "cell_type": "code",
   "execution_count": 4,
   "metadata": {},
   "outputs": [
    {
     "data": {
      "text/plain": [
       "34"
      ]
     },
     "execution_count": 4,
     "metadata": {},
     "output_type": "execute_result"
    }
   ],
   "source": [
    "len(result_df)"
   ]
  },
  {
   "cell_type": "code",
   "execution_count": 5,
   "metadata": {},
   "outputs": [],
   "source": [
    "result_df.to_csv('location-datamap.csv', index=False)"
   ]
  }
 ],
 "metadata": {
  "kernelspec": {
   "display_name": ".venv",
   "language": "python",
   "name": "python3"
  },
  "language_info": {
   "codemirror_mode": {
    "name": "ipython",
    "version": 3
   },
   "file_extension": ".py",
   "mimetype": "text/x-python",
   "name": "python",
   "nbconvert_exporter": "python",
   "pygments_lexer": "ipython3",
   "version": "3.11.2"
  }
 },
 "nbformat": 4,
 "nbformat_minor": 2
}
